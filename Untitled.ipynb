{
 "cells": [
  {
   "cell_type": "code",
   "execution_count": 3,
   "id": "585d0399-725f-4ac0-978b-73afea5a3590",
   "metadata": {},
   "outputs": [
    {
     "name": "stdout",
     "output_type": "stream",
     "text": [
      "3\n",
      "<class 'int'>\n",
      "4\n",
      "2\n",
      "6\n",
      "9\n",
      "4\n",
      "8\n",
      "<class 'float'>\n",
      "2.5 3.5 5.0 6.25\n"
     ]
    }
   ],
   "source": [
    "x = 3\n",
    "print(x)\n",
    "print(type(x))\n",
    "print(x + 1)\n",
    "print(x - 1)\n",
    "print(x * 2)\n",
    "print(x ** 2)\n",
    "x += 1 \n",
    "print(x)\n",
    "x *=2\n",
    "print(x)\n",
    "y = 2.5\n",
    "print(type(y))\n",
    "print(y,y+1,y*2,y**2)"
   ]
  },
  {
   "cell_type": "code",
   "execution_count": 7,
   "id": "3377bb5f-4fc5-4aff-abf7-d5be40c8cfd6",
   "metadata": {},
   "outputs": [
    {
     "name": "stdout",
     "output_type": "stream",
     "text": [
      "<class 'bool'>\n",
      "<class 'bool'>\n",
      "False\n",
      "True\n",
      "False\n",
      "True\n"
     ]
    }
   ],
   "source": [
    "t = True\n",
    "f = False\n",
    "print(type(t))\n",
    "print(type(f))\n",
    "print(t and f)\n",
    "print(t or f)\n",
    "print(not t)\n",
    "print(t != f)"
   ]
  },
  {
   "cell_type": "code",
   "execution_count": null,
   "id": "34bcf1c7-ff5c-4f0c-b791-9d35ae077385",
   "metadata": {},
   "outputs": [],
   "source": []
  },
  {
   "cell_type": "code",
   "execution_count": 11,
   "id": "a9953ab6-131f-4ccd-beed-d47e98a81bd4",
   "metadata": {},
   "outputs": [
    {
     "name": "stdout",
     "output_type": "stream",
     "text": [
      "Tukorea\n",
      "TUKOREA\n",
      "   TUKOREA\n",
      " TUKOREA  \n",
      "Tech University of KOREA\n"
     ]
    }
   ],
   "source": [
    "s = \"TUKOREA\"\n",
    "print(s.capitalize())\n",
    "print(s.upper())\n",
    "print(s.rjust(10))\n",
    "print(s.center(10))\n",
    "print(s.replace('TU','Tech University of '))"
   ]
  },
  {
   "cell_type": "code",
   "execution_count": 13,
   "id": "3b2faa48-9e00-4633-8927-3736a85eec3f",
   "metadata": {},
   "outputs": [
    {
     "name": "stdout",
     "output_type": "stream",
     "text": [
      "[3, 1, 2] 2\n",
      "2\n",
      "[3, 1, 'TUK']\n",
      "[3, 1, 'TUK', 'KOREA']\n",
      "KOREA\n",
      "[3, 1, 'TUK']\n",
      "KOREA [3, 1, 'TUK']\n"
     ]
    }
   ],
   "source": [
    "xs = [3,1,2]\n",
    "print(xs,xs[2])\n",
    "print(xs[-1])\n",
    "xs[2] = 'TUK'\n",
    "print(xs)\n",
    "xs.append('KOREA')\n",
    "print(xs)\n",
    "x = xs.pop()\n",
    "print(x)\n",
    "print(xs)\n",
    "print(x, xs)"
   ]
  },
  {
   "cell_type": "code",
   "execution_count": 15,
   "id": "acb7afe8-5c30-4a6b-9975-ac6427eeddfa",
   "metadata": {},
   "outputs": [
    {
     "name": "stdout",
     "output_type": "stream",
     "text": [
      "[0, 1, 2, 3, 4]\n",
      "[2, 3]\n",
      "[2, 3, 4]\n",
      "[0, 1]\n",
      "[0, 1, 2, 3, 4]\n",
      "[0, 1, 2, 3]\n",
      "[0, 1, 8, 9, 4]\n"
     ]
    }
   ],
   "source": [
    "nums = list(range(5))\n",
    "print(nums)\n",
    "print(nums[2:4])\n",
    "print(nums[2:])\n",
    "print(nums[:2])\n",
    "print(nums[:])\n",
    "print(nums[:-1])\n",
    "nums[2:4] = [8,9]\n",
    "print(nums)"
   ]
  },
  {
   "cell_type": "code",
   "execution_count": 17,
   "id": "9133ff54-c533-4adf-9dd9-c0306995ed87",
   "metadata": {},
   "outputs": [
    {
     "name": "stdout",
     "output_type": "stream",
     "text": [
      "0\n",
      "Hi TUK\n",
      "1\n",
      "Hi TUK\n",
      "2\n",
      "Hi TUK\n",
      "cat\n",
      "dog\n",
      "monkey\n"
     ]
    }
   ],
   "source": [
    "for i in range(3):\n",
    "    print(i)\n",
    "    print(\"Hi TUK\")\n",
    "\n",
    "animals = [\"cat\",\"dog\",\"monkey\"]\n",
    "for i in animals:\n",
    "    print(i)"
   ]
  },
  {
   "cell_type": "code",
   "execution_count": 21,
   "id": "880e00d8-19e1-4b05-9039-98396267d1d0",
   "metadata": {},
   "outputs": [
    {
     "name": "stdin",
     "output_type": "stream",
     "text": [
      "정수를 입력하세요. 5\n"
     ]
    },
    {
     "name": "stdout",
     "output_type": "stream",
     "text": [
      "보 !은 120 이다.\n"
     ]
    }
   ],
   "source": [
    "n = int(input(\"정수를 입력하세요.\"))\n",
    "fact =1 \n",
    "for i in range(1,n+1):\n",
    "    fact = fact * i \n",
    "print(b,'!은', fact,'이다.')"
   ]
  },
  {
   "cell_type": "code",
   "execution_count": 31,
   "id": "39242e3a-3132-4abb-9348-f28f4e9740a4",
   "metadata": {},
   "outputs": [
    {
     "name": "stdout",
     "output_type": "stream",
     "text": [
      "방정식의 해는 1.6179999999999999\n"
     ]
    }
   ],
   "source": [
    "count = 1000\n",
    "start = 1.0\n",
    "end = 2.0\n",
    "\n",
    "for i in range(count):\n",
    "    x = start + i * ((end-start)/count)\n",
    "    f = (x**2 -x -1)\n",
    "    if abs(f-0.0) < 0.001 :\n",
    "        print('방정식의 해는',x)"
   ]
  },
  {
   "cell_type": "code",
   "execution_count": 67,
   "id": "4b08101b-7110-4784-8932-2daa2d36c5a4",
   "metadata": {},
   "outputs": [
    {
     "name": "stdin",
     "output_type": "stream",
     "text": [
      "컴퓨터와 가위, 바위, 보 게임하기! \n",
      "가위/바위/보를 입력하세요!!! ==>  ㅈ\n"
     ]
    },
    {
     "name": "stdout",
     "output_type": "stream",
     "text": [
      "가위/바위/보 중 하나를 내세요.\n"
     ]
    },
    {
     "name": "stdin",
     "output_type": "stream",
     "text": [
      "컴퓨터와 가위, 바위, 보 게임하기! \n",
      "가위/바위/보를 입력하세요!!! ==>  바위\n"
     ]
    },
    {
     "name": "stdout",
     "output_type": "stream",
     "text": [
      "졌습니다!\n"
     ]
    }
   ],
   "source": [
    "import random\n",
    "\n",
    "a = input(\"컴퓨터와 가위, 바위, 보 게임하기! \\n가위/바위/보를 입력하세요!!! ==> \")\n",
    "\n",
    "choices = [\"가위\", \"바위\", \"보\"]\n",
    "\n",
    "if a not in choices:\n",
    "    print(\"가위/바위/보 중 하나를 내세요.\")\n",
    "    a = input(\"컴퓨터와 가위, 바위, 보 게임하기! \\n가위/바위/보를 입력하세요!!! ==> \")\n",
    "    if a == b:\n",
    "        print(\"비겼습니다!\")\n",
    "    elif (a == \"가위\" and b == \"보\") or (a == \"바위\" and b == \"가위\") or (a == \"보\" and b == \"바위\"):\n",
    "        print(\"이겼습니다!\")\n",
    "    else:\n",
    "        print(\"졌습니다!\")\n",
    "else:\n",
    "    b = random.choice(choices)\n",
    "    print(f\"컴퓨터의 선택은 ==> {b}\")\n",
    "    \n",
    "    if a == b:\n",
    "        print(\"비겼습니다!\")\n",
    "    elif (a == \"가위\" and b == \"보\") or (a == \"바위\" and b == \"가위\") or (a == \"보\" and b == \"바위\"):\n",
    "        print(\"이겼습니다!\")\n",
    "    else:\n",
    "        print(\"졌습니다!\")\n"
   ]
  },
  {
   "cell_type": "code",
   "execution_count": 89,
   "id": "372ca5bf-b6c5-42a9-b826-f8f928a13156",
   "metadata": {},
   "outputs": [
    {
     "name": "stdin",
     "output_type": "stream",
     "text": [
      "컴퓨터와 가위, 바위, 보 게임하기! \n",
      "가위/바위/보를 입력하세요!!! ==>  ㅇ\n"
     ]
    },
    {
     "name": "stdout",
     "output_type": "stream",
     "text": [
      "가위/바위/보 중 하나를 내세요.\n"
     ]
    },
    {
     "name": "stdin",
     "output_type": "stream",
     "text": [
      "컴퓨터와 가위, 바위, 보 게임하기! \n",
      "가위/바위/보를 입력하세요!!! ==>  바위\n"
     ]
    },
    {
     "name": "stdout",
     "output_type": "stream",
     "text": [
      "졌다.\n"
     ]
    }
   ],
   "source": [
    "import random\n",
    "\n",
    "a = input(\"컴퓨터와 가위, 바위, 보 게임하기! \\n가위/바위/보를 입력하세요!!! ==> \")\n",
    "\n",
    "choices = [\"가위\", \"바위\", \"보\"]\n",
    "\n",
    "if a not in choices:\n",
    "    print(\"가위/바위/보 중 하나를 내세요.\")\n",
    "    a = input(\"컴퓨터와 가위, 바위, 보 게임하기! \\n가위/바위/보를 입력하세요!!! ==> \")\n",
    "    if a == '가위':\n",
    "        if b == '가위':\n",
    "            print('비겼네')\n",
    "        elif b == '보':\n",
    "            print('이겼다.')\n",
    "        elif b == '바위':\n",
    "            print('졌당 ㅠ')\n",
    "    \n",
    "    elif a == '바위':\n",
    "        if b == '가위':\n",
    "            print('이겼다')\n",
    "        elif b == '보':\n",
    "            print('졌다.')\n",
    "        elif b == '바위':\n",
    "            print('비겼다')\n",
    "    \n",
    "    elif a == '보':\n",
    "        if b == '가위':\n",
    "            print('졌네')\n",
    "        elif b == '보':\n",
    "            print('비겼네.')\n",
    "        elif b == '바위':\n",
    "            print('이겼당')\n",
    "else:\n",
    "    b = random.choice(choices)\n",
    "    print(f\"컴퓨터의 선택은 ==> {b}\")\n",
    "\n",
    "    if a == '가위':\n",
    "        if b == '가위':\n",
    "            print('비겼네')\n",
    "        elif b == '보':\n",
    "            print('이겼다.')\n",
    "        elif b == '바위':\n",
    "            print('졌당 ㅠ')\n",
    "    \n",
    "    elif a == '바위':\n",
    "        if b == '가위':\n",
    "            print('이겼다')\n",
    "        elif b == '보':\n",
    "            print('졌다.')\n",
    "        elif b == '바위':\n",
    "            print('비겼다')\n",
    "\n",
    "    elif a == '보':\n",
    "        if b == '가위':\n",
    "            print('졌네')\n",
    "        elif b == '보':\n",
    "            print('비겼네.')\n",
    "        elif b == '바위':\n",
    "            print('이겼당')"
   ]
  },
  {
   "cell_type": "code",
   "execution_count": null,
   "id": "c312ff2b-7bbb-43bd-96be-ce5a2d1a0ab0",
   "metadata": {},
   "outputs": [],
   "source": []
  }
 ],
 "metadata": {
  "kernelspec": {
   "display_name": "Python 3 (ipykernel)",
   "language": "python",
   "name": "python3"
  },
  "language_info": {
   "codemirror_mode": {
    "name": "ipython",
    "version": 3
   },
   "file_extension": ".py",
   "mimetype": "text/x-python",
   "name": "python",
   "nbconvert_exporter": "python",
   "pygments_lexer": "ipython3",
   "version": "3.12.4"
  }
 },
 "nbformat": 4,
 "nbformat_minor": 5
}
