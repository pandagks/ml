{
 "cells": [
  {
   "cell_type": "code",
   "execution_count": 1,
   "id": "92eae562-3207-42ef-97ba-77efa164c7bc",
   "metadata": {},
   "outputs": [],
   "source": [
    "import numpy as np"
   ]
  },
  {
   "cell_type": "code",
   "execution_count": 5,
   "id": "a214c110-02c2-4ca3-89d5-91b358cba59b",
   "metadata": {},
   "outputs": [
    {
     "name": "stdout",
     "output_type": "stream",
     "text": [
      "<class 'numpy.ndarray'>\n",
      "[1 2 3]\n",
      "1\n"
     ]
    }
   ],
   "source": [
    "a = np.array([1,2,3])\n",
    "print(type(a))\n",
    "print(a)\n",
    "print(a[0])"
   ]
  },
  {
   "cell_type": "code",
   "execution_count": 13,
   "id": "27bcfc05-68b8-4860-9f37-bd9c7df32adc",
   "metadata": {},
   "outputs": [
    {
     "name": "stdout",
     "output_type": "stream",
     "text": [
      "<class 'numpy.ndarray'>\n",
      "[[1 2 3]\n",
      " [4 5 6]\n",
      " [7 8 9]]\n",
      "3\n"
     ]
    }
   ],
   "source": [
    "b = np.array([[1,2,3],[4,5,6],[7,8,9]])\n",
    "print(type(b))\n",
    "print(b)\n",
    "print(b[0][2])"
   ]
  },
  {
   "cell_type": "code",
   "execution_count": 15,
   "id": "52c452e4-2e8c-45fd-b303-c0511d449f4a",
   "metadata": {},
   "outputs": [
    {
     "data": {
      "text/plain": [
       "array([[0., 0., 0., 0.],\n",
       "       [0., 0., 0., 0.],\n",
       "       [0., 0., 0., 0.]])"
      ]
     },
     "execution_count": 15,
     "metadata": {},
     "output_type": "execute_result"
    }
   ],
   "source": [
    "np.zeros((3,4))"
   ]
  },
  {
   "cell_type": "code",
   "execution_count": 17,
   "id": "29625cf8-e037-4068-82bd-25d4b4ae2c58",
   "metadata": {},
   "outputs": [
    {
     "data": {
      "text/plain": [
       "array([[1, 1, 1, 1],\n",
       "       [1, 1, 1, 1],\n",
       "       [1, 1, 1, 1]])"
      ]
     },
     "execution_count": 17,
     "metadata": {},
     "output_type": "execute_result"
    }
   ],
   "source": [
    "np.ones((3,4),dtype=np.int32)"
   ]
  },
  {
   "cell_type": "code",
   "execution_count": 21,
   "id": "6e852332-dc56-4b30-8dc9-082bfd576096",
   "metadata": {},
   "outputs": [
    {
     "data": {
      "text/plain": [
       "array([[1., 0., 0., 0.],\n",
       "       [0., 1., 0., 0.],\n",
       "       [0., 0., 1., 0.],\n",
       "       [0., 0., 0., 1.]])"
      ]
     },
     "execution_count": 21,
     "metadata": {},
     "output_type": "execute_result"
    }
   ],
   "source": [
    "np.eye(4)"
   ]
  },
  {
   "cell_type": "code",
   "execution_count": 23,
   "id": "b7d03e20-7f18-488d-acfc-894e0221ef31",
   "metadata": {},
   "outputs": [
    {
     "data": {
      "text/plain": [
       "array([0, 1, 2, 3, 4])"
      ]
     },
     "execution_count": 23,
     "metadata": {},
     "output_type": "execute_result"
    }
   ],
   "source": [
    "np.arange(5)"
   ]
  },
  {
   "cell_type": "code",
   "execution_count": 25,
   "id": "7eceaefa-5411-4a91-80b4-c723d8b4668c",
   "metadata": {},
   "outputs": [
    {
     "data": {
      "text/plain": [
       "array([1, 2, 3, 4, 5])"
      ]
     },
     "execution_count": 25,
     "metadata": {},
     "output_type": "execute_result"
    }
   ],
   "source": [
    "np.arange(1,6)"
   ]
  },
  {
   "cell_type": "code",
   "execution_count": 27,
   "id": "965ff689-502c-4bb8-8a87-c35db87e0fbe",
   "metadata": {},
   "outputs": [
    {
     "data": {
      "text/plain": [
       "array([1, 3, 5])"
      ]
     },
     "execution_count": 27,
     "metadata": {},
     "output_type": "execute_result"
    }
   ],
   "source": [
    "np.arange(1,6,2)"
   ]
  },
  {
   "cell_type": "code",
   "execution_count": 29,
   "id": "34a7bd35-7cd3-41db-b2cf-15f17ce37a33",
   "metadata": {},
   "outputs": [
    {
     "data": {
      "text/plain": [
       "array([ 1.        ,  1.09090909,  1.18181818,  1.27272727,  1.36363636,\n",
       "        1.45454545,  1.54545455,  1.63636364,  1.72727273,  1.81818182,\n",
       "        1.90909091,  2.        ,  2.09090909,  2.18181818,  2.27272727,\n",
       "        2.36363636,  2.45454545,  2.54545455,  2.63636364,  2.72727273,\n",
       "        2.81818182,  2.90909091,  3.        ,  3.09090909,  3.18181818,\n",
       "        3.27272727,  3.36363636,  3.45454545,  3.54545455,  3.63636364,\n",
       "        3.72727273,  3.81818182,  3.90909091,  4.        ,  4.09090909,\n",
       "        4.18181818,  4.27272727,  4.36363636,  4.45454545,  4.54545455,\n",
       "        4.63636364,  4.72727273,  4.81818182,  4.90909091,  5.        ,\n",
       "        5.09090909,  5.18181818,  5.27272727,  5.36363636,  5.45454545,\n",
       "        5.54545455,  5.63636364,  5.72727273,  5.81818182,  5.90909091,\n",
       "        6.        ,  6.09090909,  6.18181818,  6.27272727,  6.36363636,\n",
       "        6.45454545,  6.54545455,  6.63636364,  6.72727273,  6.81818182,\n",
       "        6.90909091,  7.        ,  7.09090909,  7.18181818,  7.27272727,\n",
       "        7.36363636,  7.45454545,  7.54545455,  7.63636364,  7.72727273,\n",
       "        7.81818182,  7.90909091,  8.        ,  8.09090909,  8.18181818,\n",
       "        8.27272727,  8.36363636,  8.45454545,  8.54545455,  8.63636364,\n",
       "        8.72727273,  8.81818182,  8.90909091,  9.        ,  9.09090909,\n",
       "        9.18181818,  9.27272727,  9.36363636,  9.45454545,  9.54545455,\n",
       "        9.63636364,  9.72727273,  9.81818182,  9.90909091, 10.        ])"
      ]
     },
     "execution_count": 29,
     "metadata": {},
     "output_type": "execute_result"
    }
   ],
   "source": [
    "np.linspace(1,10,100)"
   ]
  },
  {
   "cell_type": "code",
   "execution_count": 33,
   "id": "d5ffee33-b52b-4b7c-92a5-9e9d6b8b9e2e",
   "metadata": {},
   "outputs": [
    {
     "data": {
      "text/plain": [
       "array([1, 2, 3, 4, 5, 6, 7, 8])"
      ]
     },
     "execution_count": 33,
     "metadata": {},
     "output_type": "execute_result"
    }
   ],
   "source": [
    "arr = np.array([1,3,5,6,7,4,8,2])\n",
    "np.sort(arr)"
   ]
  },
  {
   "cell_type": "code",
   "execution_count": 49,
   "id": "37b6950d-e2eb-4086-bac2-1a1b1d73ca58",
   "metadata": {},
   "outputs": [
    {
     "data": {
      "text/plain": [
       "array([[1, 2, 5, 6],\n",
       "       [3, 4, 7, 8]])"
      ]
     },
     "execution_count": 49,
     "metadata": {},
     "output_type": "execute_result"
    }
   ],
   "source": [
    "#합치기 axis가 1 이면 행으로, axis가 0이면 열으로\n",
    "x = np.array([[1,2],[3,4]])\n",
    "y = np.array([[5,6],[7,8]])\n",
    "np.concatenate((x,y),axis=1)\n",
    "             "
   ]
  },
  {
   "cell_type": "code",
   "execution_count": 51,
   "id": "92253cf9-a2ce-44d5-8722-2212daf862f5",
   "metadata": {},
   "outputs": [
    {
     "data": {
      "text/plain": [
       "array([[1, 2, 5, 6],\n",
       "       [3, 4, 7, 8]])"
      ]
     },
     "execution_count": 51,
     "metadata": {},
     "output_type": "execute_result"
    }
   ],
   "source": [
    "#수직, 수평 쌓기\n",
    "np.vstack((x,y))\n",
    "np.hstack((x,y))"
   ]
  },
  {
   "cell_type": "code",
   "execution_count": 61,
   "id": "92a94f63-2cfc-4979-9568-7d154293dd17",
   "metadata": {},
   "outputs": [
    {
     "data": {
      "text/plain": [
       "array([[ 0,  1],\n",
       "       [ 2,  3],\n",
       "       [ 4,  5],\n",
       "       [ 6,  7],\n",
       "       [ 8,  9],\n",
       "       [10, 11]])"
      ]
     },
     "execution_count": 61,
     "metadata": {},
     "output_type": "execute_result"
    }
   ],
   "source": [
    "a = np.arange(12)\n",
    "a.shape\n",
    "a.reshape(3,4)\n",
    "a.reshape(6,-1)"
   ]
  },
  {
   "cell_type": "code",
   "execution_count": 65,
   "id": "890613a4-19ff-46fc-89f8-a821ce474779",
   "metadata": {},
   "outputs": [
    {
     "data": {
      "text/plain": [
       "array([[ 0,  1,  2,  3,  4,  5,  6,  7,  8,  9],\n",
       "       [10, 11, 12, 13, 14, 15, 16, 17, 18, 19],\n",
       "       [20, 21, 22, 23, 24, 25, 26, 27, 28, 29]])"
      ]
     },
     "execution_count": 65,
     "metadata": {},
     "output_type": "execute_result"
    }
   ],
   "source": [
    "arr = np.arange(30).reshape(-1,10)\n",
    "arr"
   ]
  },
  {
   "cell_type": "code",
   "execution_count": 69,
   "id": "d2444613-e192-4271-96c2-9a1f4c3628e0",
   "metadata": {},
   "outputs": [
    {
     "data": {
      "text/plain": [
       "array([[ 3,  4,  5,  6,  7,  8,  9],\n",
       "       [13, 14, 15, 16, 17, 18, 19],\n",
       "       [23, 24, 25, 26, 27, 28, 29]])"
      ]
     },
     "execution_count": 69,
     "metadata": {},
     "output_type": "execute_result"
    }
   ],
   "source": [
    "# axis = 1 세로 분할, 0은 가로 분할\n",
    "arr1,arr2 = np.split(arr, [3], axis = 1)\n",
    "arr"
   ]
  },
  {
   "cell_type": "code",
   "execution_count": 75,
   "id": "73adc9e5-21d0-4fbb-8dc3-62c23a34e105",
   "metadata": {},
   "outputs": [
    {
     "data": {
      "text/plain": [
       "array([1, 2, 3, 4, 5, 6])"
      ]
     },
     "execution_count": 75,
     "metadata": {},
     "output_type": "execute_result"
    }
   ],
   "source": [
    "a = np.arange(1,7)\n",
    "a"
   ]
  },
  {
   "cell_type": "code",
   "execution_count": 77,
   "id": "445c9a01-f4fc-4f84-b567-7b1f089aefe0",
   "metadata": {},
   "outputs": [],
   "source": [
    "a1 = a[np.newaxis,:]"
   ]
  },
  {
   "cell_type": "code",
   "execution_count": 79,
   "id": "d7cdaaf6-6efb-4dc0-81cc-84f251134688",
   "metadata": {},
   "outputs": [
    {
     "data": {
      "text/plain": [
       "array([[1, 2, 3, 4, 5, 6]])"
      ]
     },
     "execution_count": 79,
     "metadata": {},
     "output_type": "execute_result"
    }
   ],
   "source": [
    "a1 # 차원이 하나더 생김"
   ]
  },
  {
   "cell_type": "code",
   "execution_count": 83,
   "id": "d86e702d-c76f-46d1-96b9-db92323d682f",
   "metadata": {},
   "outputs": [
    {
     "data": {
      "text/plain": [
       "(1, 6)"
      ]
     },
     "execution_count": 83,
     "metadata": {},
     "output_type": "execute_result"
    }
   ],
   "source": [
    "a1.shape"
   ]
  },
  {
   "cell_type": "code",
   "execution_count": 85,
   "id": "f8b568e5-d400-49ba-958b-cc1a5f9b68ce",
   "metadata": {},
   "outputs": [
    {
     "data": {
      "text/plain": [
       "(6, 1)"
      ]
     },
     "execution_count": 85,
     "metadata": {},
     "output_type": "execute_result"
    }
   ],
   "source": [
    "a2 = a[:,np.newaxis]\n",
    "a2.shape"
   ]
  },
  {
   "cell_type": "code",
   "execution_count": 87,
   "id": "0170b6c6-8299-4868-8c10-cd3ec6f6c6f9",
   "metadata": {},
   "outputs": [
    {
     "data": {
      "text/plain": [
       "array([[ 1,  2,  3,  4],\n",
       "       [ 5,  6,  7,  8],\n",
       "       [ 9, 10, 11, 12],\n",
       "       [13, 14, 15, 16]])"
      ]
     },
     "execution_count": 87,
     "metadata": {},
     "output_type": "execute_result"
    }
   ],
   "source": [
    "arr = np.arange(1,17).reshape(4,4)\n",
    "arr"
   ]
  },
  {
   "cell_type": "code",
   "execution_count": 185,
   "id": "56a01532-e7dd-4c6d-9113-2e47c4bb3fd7",
   "metadata": {},
   "outputs": [
    {
     "data": {
      "text/plain": [
       "array([1, 2, 3, 4])"
      ]
     },
     "execution_count": 185,
     "metadata": {},
     "output_type": "execute_result"
    }
   ],
   "source": [
    "arr[0]"
   ]
  },
  {
   "cell_type": "code",
   "execution_count": 187,
   "id": "d8631da3-8e73-441d-ae45-1bd5f875aeed",
   "metadata": {},
   "outputs": [
    {
     "data": {
      "text/plain": [
       "array([5, 6, 7, 8])"
      ]
     },
     "execution_count": 187,
     "metadata": {},
     "output_type": "execute_result"
    }
   ],
   "source": [
    "arr[1]"
   ]
  },
  {
   "cell_type": "code",
   "execution_count": 189,
   "id": "36b7a715-518e-4cb3-a505-25199d6f7178",
   "metadata": {},
   "outputs": [
    {
     "data": {
      "text/plain": [
       "array([5, 6, 7, 8])"
      ]
     },
     "execution_count": 189,
     "metadata": {},
     "output_type": "execute_result"
    }
   ],
   "source": [
    "arr[1,:]"
   ]
  },
  {
   "cell_type": "code",
   "execution_count": 191,
   "id": "f7003efc-2574-4083-b6e3-9c93d1a4d5f6",
   "metadata": {},
   "outputs": [
    {
     "data": {
      "text/plain": [
       "array([ 3,  7, 11, 15])"
      ]
     },
     "execution_count": 191,
     "metadata": {},
     "output_type": "execute_result"
    }
   ],
   "source": [
    "arr[:,2]"
   ]
  },
  {
   "cell_type": "code",
   "execution_count": 193,
   "id": "40b43579-32b2-4d64-baa2-225a91b7902f",
   "metadata": {},
   "outputs": [
    {
     "data": {
      "text/plain": [
       "array([[3, 4],\n",
       "       [7, 8]])"
      ]
     },
     "execution_count": 193,
     "metadata": {},
     "output_type": "execute_result"
    }
   ],
   "source": [
    "arr[0:2,2:4]"
   ]
  },
  {
   "cell_type": "code",
   "execution_count": 195,
   "id": "6f7b51bd-952e-488a-a4a7-e7cca33d6af3",
   "metadata": {},
   "outputs": [
    {
     "data": {
      "text/plain": [
       "6"
      ]
     },
     "execution_count": 195,
     "metadata": {},
     "output_type": "execute_result"
    }
   ],
   "source": [
    "arr[1,1]"
   ]
  },
  {
   "cell_type": "code",
   "execution_count": 197,
   "id": "2501c952-198e-440c-97f3-6dc09c91f755",
   "metadata": {},
   "outputs": [
    {
     "data": {
      "text/plain": [
       "array([[ 1,  3],\n",
       "       [ 9, 11]])"
      ]
     },
     "execution_count": 197,
     "metadata": {},
     "output_type": "execute_result"
    }
   ],
   "source": [
    "arr[::2,::2]"
   ]
  },
  {
   "cell_type": "code",
   "execution_count": 199,
   "id": "fc6692dc-8f8d-433a-b261-7925ad9afd96",
   "metadata": {},
   "outputs": [
    {
     "data": {
      "text/plain": [
       "array([[ 1,  3],\n",
       "       [ 9, 11]])"
      ]
     },
     "execution_count": 199,
     "metadata": {},
     "output_type": "execute_result"
    }
   ],
   "source": [
    "arr[::2,::2]"
   ]
  },
  {
   "cell_type": "code",
   "execution_count": 183,
   "id": "73f39d03-950f-4387-90b7-fd45d13d9760",
   "metadata": {},
   "outputs": [
    {
     "data": {
      "text/plain": [
       "array([[ 6,  8],\n",
       "       [14, 16]])"
      ]
     },
     "execution_count": 183,
     "metadata": {},
     "output_type": "execute_result"
    }
   ],
   "source": [
    "arr[1::2,1::2]"
   ]
  },
  {
   "cell_type": "code",
   "execution_count": 201,
   "id": "8286cd0e-eef5-40ac-81dc-4ce3e8149b62",
   "metadata": {},
   "outputs": [
    {
     "data": {
      "text/plain": [
       "array([0.        , 8.41470985, 9.09297427, 1.41120008])"
      ]
     },
     "execution_count": 201,
     "metadata": {},
     "output_type": "execute_result"
    }
   ],
   "source": [
    "A = np.array([0,1,2,3])\n",
    "10 * np.sin(A)"
   ]
  },
  {
   "cell_type": "code",
   "execution_count": 203,
   "id": "29bc137d-bd0d-489c-902a-87f9b94224b9",
   "metadata": {},
   "outputs": [
    {
     "data": {
      "text/plain": [
       "9"
      ]
     },
     "execution_count": 203,
     "metadata": {},
     "output_type": "execute_result"
    }
   ],
   "source": [
    "a = np.array([[1,2,3],[4,5,6],[7,8,9]])\n",
    "a.sum()\n",
    "a.min()\n",
    "a.max()"
   ]
  },
  {
   "cell_type": "code",
   "execution_count": 205,
   "id": "ab4f015b-ca60-4b57-94e5-34636c28859e",
   "metadata": {},
   "outputs": [
    {
     "data": {
      "text/plain": [
       "array([4., 5., 6.])"
      ]
     },
     "execution_count": 205,
     "metadata": {},
     "output_type": "execute_result"
    }
   ],
   "source": [
    "a.mean(axis=0)"
   ]
  },
  {
   "cell_type": "code",
   "execution_count": 207,
   "id": "741fc187-5110-4903-bcf2-2b8e81572a5a",
   "metadata": {},
   "outputs": [
    {
     "data": {
      "text/plain": [
       "array([2., 5., 8.])"
      ]
     },
     "execution_count": 207,
     "metadata": {},
     "output_type": "execute_result"
    }
   ],
   "source": [
    "a.mean(axis=1)"
   ]
  },
  {
   "cell_type": "code",
   "execution_count": 209,
   "id": "6d06e22b-55bc-4221-9aff-77ce5f6f7988",
   "metadata": {},
   "outputs": [
    {
     "data": {
      "text/plain": [
       "array([[0.54340494, 0.27836939, 0.42451759],\n",
       "       [0.84477613, 0.00471886, 0.12156912],\n",
       "       [0.67074908, 0.82585276, 0.13670659],\n",
       "       [0.57509333, 0.89132195, 0.20920212],\n",
       "       [0.18532822, 0.10837689, 0.21969749]])"
      ]
     },
     "execution_count": 209,
     "metadata": {},
     "output_type": "execute_result"
    }
   ],
   "source": [
    "np.random.seed(100)\n",
    "np.random.rand(5,3)"
   ]
  },
  {
   "cell_type": "code",
   "execution_count": 211,
   "id": "758dcea1-7433-4cbe-923c-406b4f85ce9b",
   "metadata": {},
   "outputs": [
    {
     "data": {
      "text/plain": [
       "array([4, 5, 5, 2, 6, 6, 4, 5, 5, 4])"
      ]
     },
     "execution_count": 211,
     "metadata": {},
     "output_type": "execute_result"
    }
   ],
   "source": [
    "np.random.randint(1,7,size=10)"
   ]
  },
  {
   "cell_type": "code",
   "execution_count": 213,
   "id": "4a2e701e-6beb-4e4c-990f-13fd066824cc",
   "metadata": {},
   "outputs": [
    {
     "data": {
      "text/plain": [
       "array([[ 0.98056914,  1.37699631, -0.23028509,  0.48092412],\n",
       "       [-1.26691058,  0.27100509,  2.14076322,  0.47536904],\n",
       "       [ 0.24652489, -1.08417396, -2.3815826 , -0.4363488 ],\n",
       "       [-2.07241186, -1.29543984, -0.46402358, -0.05702664],\n",
       "       [ 0.27592974,  1.49451522,  0.56682064, -2.30337426]])"
      ]
     },
     "execution_count": 213,
     "metadata": {},
     "output_type": "execute_result"
    }
   ],
   "source": [
    "np.random.randn(5,4)"
   ]
  },
  {
   "cell_type": "code",
   "execution_count": 215,
   "id": "a8498c40-f699-409d-82ab-029abe6c37b7",
   "metadata": {},
   "outputs": [
    {
     "data": {
      "text/plain": [
       "array([ 0.13770007, -0.11873868,  0.00793931,  0.01079686,  0.05069511])"
      ]
     },
     "execution_count": 215,
     "metadata": {},
     "output_type": "execute_result"
    }
   ],
   "source": [
    "mu, sigma = 0, 0.1\n",
    "np.random.normal(mu,sigma,5)"
   ]
  },
  {
   "cell_type": "code",
   "execution_count": 219,
   "id": "d6cdb6d8-23a9-41e1-bbf6-d8b67b3473cb",
   "metadata": {},
   "outputs": [
    {
     "data": {
      "text/plain": [
       "array([[ 1,  2,  3,  4],\n",
       "       [ 5,  6,  7,  8],\n",
       "       [ 9, 10, 11, 12]])"
      ]
     },
     "execution_count": 219,
     "metadata": {},
     "output_type": "execute_result"
    }
   ],
   "source": [
    "x = np.arange(1,13).reshape(3,4)\n",
    "x"
   ]
  },
  {
   "cell_type": "code",
   "execution_count": 221,
   "id": "e8d65e7d-e8e7-4179-be3a-3bef65b97c7f",
   "metadata": {},
   "outputs": [
    {
     "data": {
      "text/plain": [
       "array([ 1,  2,  3,  4,  5,  6,  7,  8,  9, 10, 11, 12])"
      ]
     },
     "execution_count": 221,
     "metadata": {},
     "output_type": "execute_result"
    }
   ],
   "source": [
    "x.flatten()"
   ]
  },
  {
   "cell_type": "code",
   "execution_count": null,
   "id": "3cd83cc6-441f-4cd9-9a97-38b4ab27d7a5",
   "metadata": {},
   "outputs": [],
   "source": [
    "#https://github.com/donlee4u/ML_Class"
   ]
  },
  {
   "cell_type": "code",
   "execution_count": 223,
   "id": "445737db-ac7c-4458-8601-74cb2fd542a9",
   "metadata": {},
   "outputs": [
    {
     "data": {
      "text/html": [
       "<div>\n",
       "<style scoped>\n",
       "    .dataframe tbody tr th:only-of-type {\n",
       "        vertical-align: middle;\n",
       "    }\n",
       "\n",
       "    .dataframe tbody tr th {\n",
       "        vertical-align: top;\n",
       "    }\n",
       "\n",
       "    .dataframe thead th {\n",
       "        text-align: right;\n",
       "    }\n",
       "</style>\n",
       "<table border=\"1\" class=\"dataframe\">\n",
       "  <thead>\n",
       "    <tr style=\"text-align: right;\">\n",
       "      <th></th>\n",
       "      <th>code</th>\n",
       "      <th>country</th>\n",
       "      <th>area</th>\n",
       "      <th>capital</th>\n",
       "      <th>population</th>\n",
       "    </tr>\n",
       "  </thead>\n",
       "  <tbody>\n",
       "    <tr>\n",
       "      <th>0</th>\n",
       "      <td>KR</td>\n",
       "      <td>Korea</td>\n",
       "      <td>98480</td>\n",
       "      <td>Seoul</td>\n",
       "      <td>48422644</td>\n",
       "    </tr>\n",
       "    <tr>\n",
       "      <th>1</th>\n",
       "      <td>US</td>\n",
       "      <td>USA</td>\n",
       "      <td>9629091</td>\n",
       "      <td>Washington</td>\n",
       "      <td>310232863</td>\n",
       "    </tr>\n",
       "    <tr>\n",
       "      <th>2</th>\n",
       "      <td>JP</td>\n",
       "      <td>Japan</td>\n",
       "      <td>377835</td>\n",
       "      <td>Tokyo</td>\n",
       "      <td>127288000</td>\n",
       "    </tr>\n",
       "    <tr>\n",
       "      <th>3</th>\n",
       "      <td>CN</td>\n",
       "      <td>China</td>\n",
       "      <td>9596960</td>\n",
       "      <td>Beijing</td>\n",
       "      <td>1330044000</td>\n",
       "    </tr>\n",
       "    <tr>\n",
       "      <th>4</th>\n",
       "      <td>RU</td>\n",
       "      <td>Russia</td>\n",
       "      <td>17100000</td>\n",
       "      <td>Moscow</td>\n",
       "      <td>140702000</td>\n",
       "    </tr>\n",
       "  </tbody>\n",
       "</table>\n",
       "</div>"
      ],
      "text/plain": [
       "  code country      area     capital  population\n",
       "0   KR   Korea     98480       Seoul    48422644\n",
       "1   US     USA   9629091  Washington   310232863\n",
       "2   JP   Japan    377835       Tokyo   127288000\n",
       "3   CN   China   9596960     Beijing  1330044000\n",
       "4   RU  Russia  17100000      Moscow   140702000"
      ]
     },
     "execution_count": 223,
     "metadata": {},
     "output_type": "execute_result"
    }
   ],
   "source": [
    "import pandas as pd\n",
    "df = pd.read_csv(\"C:\\\\Users\\\\panda\\\\Documents\\\\machine_learning\\\\countries.csv\")\n",
    "df.head()"
   ]
  },
  {
   "cell_type": "code",
   "execution_count": 225,
   "id": "af9e2cd9-bca5-49b3-9317-52311d608ff1",
   "metadata": {},
   "outputs": [
    {
     "name": "stdout",
     "output_type": "stream",
     "text": [
      "[['Korea' 'Seoul']\n",
      " ['USA' 'Washington']\n",
      " ['Japan' 'Tokyo']\n",
      " ['China' 'Beijing']\n",
      " ['Russia' 'Moscow']]\n"
     ]
    }
   ],
   "source": [
    "x = pd.read_csv(\"C:\\\\Users\\\\panda\\\\Documents\\\\machine_learning\\\\countries.csv\",usecols=['country','capital']).values\n",
    "print(x)"
   ]
  },
  {
   "cell_type": "code",
   "execution_count": 227,
   "id": "1dc97750-4d23-4f28-84a0-234f3be75662",
   "metadata": {},
   "outputs": [
    {
     "data": {
      "image/png": "[encoded data removed]",
      "text/plain": [
       "<Figure size 640x480 with 1 Axes>"
      ]
     },
     "metadata": {},
     "output_type": "display_data"
    }
   ],
   "source": [
    "import matplotlib.pyplot as plt\n",
    "%matplotlib inline\n",
    "\n",
    "X = [\"Mon\",\"TUE\",\"WED\",\"THUR\",\"FRI\",\"SAT\",\"SUN\"]\n",
    "Y1 = [15.6,14.2,16.3,18.2,17.1,20.2,22.4]\n",
    "Y2 = [20.1,23.1,23.8,25.9,23.4,25.1,26.3]\n",
    "\n",
    "plt.plot(X,Y1,label=\"Seoul\")\n",
    "plt.plot(X,Y2,label=\"Busan\")\n",
    "plt.xlabel(\"day\")\n",
    "plt.ylabel(\"temperature\")\n",
    "plt.legend(loc=\"upper left\")\n",
    "plt.title(\"Temperatures of Cities\")\n",
    "plt.show()"
   ]
  },
  {
   "cell_type": "code",
   "execution_count": 19,
   "id": "dbd42e9f-6a3b-4935-8942-c334ef90881c",
   "metadata": {},
   "outputs": [
    {
     "data": {
      "text/plain": [
       "array([0, 1, 2, 3, 4, 5, 6, 7, 8, 9])"
      ]
     },
     "execution_count": 19,
     "metadata": {},
     "output_type": "execute_result"
    }
   ],
   "source": [
    "import numpy as np\n",
    "import pandas as pd\n",
    "array = np.arange(0,10)\n",
    "array"
   ]
  },
  {
   "cell_type": "code",
   "execution_count": 15,
   "id": "eb87fa82-d206-4038-b4bd-8c9fc0b65df8",
   "metadata": {},
   "outputs": [
    {
     "data": {
      "text/plain": [
       "array([9, 8, 7, 6, 5, 4, 3, 2, 1, 0])"
      ]
     },
     "execution_count": 15,
     "metadata": {},
     "output_type": "execute_result"
    }
   ],
   "source": [
    "array[np.argsort(-array)]"
   ]
  },
  {
   "cell_type": "code",
   "execution_count": 23,
   "id": "9f934368-0c4b-4e50-a81a-47aca94d8e63",
   "metadata": {},
   "outputs": [
    {
     "data": {
      "text/plain": [
       "array([9, 8, 7, 6, 5, 4, 3, 2, 1, 0])"
      ]
     },
     "execution_count": 23,
     "metadata": {},
     "output_type": "execute_result"
    }
   ],
   "source": [
    "np.sort(array)[::-1]"
   ]
  },
  {
   "cell_type": "code",
   "execution_count": 25,
   "id": "9313697d-d22d-4665-8785-3252a89a036a",
   "metadata": {},
   "outputs": [
    {
     "data": {
      "text/plain": [
       "array([[0, 1, 2],\n",
       "       [3, 4, 5],\n",
       "       [6, 7, 8]])"
      ]
     },
     "execution_count": 25,
     "metadata": {},
     "output_type": "execute_result"
    }
   ],
   "source": [
    "np.arange(0,9).reshape(3,3)"
   ]
  },
  {
   "cell_type": "code",
   "execution_count": 27,
   "id": "08e97282-7f10-4237-a3da-86c0da081215",
   "metadata": {},
   "outputs": [
    {
     "data": {
      "text/plain": [
       "array([[0],\n",
       "       [1],\n",
       "       [2],\n",
       "       [3],\n",
       "       [4],\n",
       "       [5],\n",
       "       [6],\n",
       "       [7],\n",
       "       [8]])"
      ]
     },
     "execution_count": 27,
     "metadata": {},
     "output_type": "execute_result"
    }
   ],
   "source": [
    "np.arange(0,9).reshape(9,1)"
   ]
  },
  {
   "cell_type": "code",
   "execution_count": 87,
   "id": "00e36ce8-5663-4fbb-951e-ee690715194c",
   "metadata": {},
   "outputs": [
    {
     "data": {
      "text/plain": [
       "array([[1., 1., 1., 1., 1., 1., 1., 1., 1., 1.],\n",
       "       [1., 0., 0., 0., 0., 0., 0., 0., 0., 1.],\n",
       "       [1., 0., 0., 0., 0., 0., 0., 0., 0., 1.],\n",
       "       [1., 0., 0., 0., 0., 0., 0., 0., 0., 1.],\n",
       "       [1., 0., 0., 0., 0., 0., 0., 0., 0., 1.],\n",
       "       [1., 0., 0., 0., 0., 0., 0., 0., 0., 1.],\n",
       "       [1., 0., 0., 0., 0., 0., 0., 0., 0., 1.],\n",
       "       [1., 0., 0., 0., 0., 0., 0., 0., 0., 1.],\n",
       "       [1., 0., 0., 0., 0., 0., 0., 0., 0., 1.],\n",
       "       [1., 1., 1., 1., 1., 1., 1., 1., 1., 1.]])"
      ]
     },
     "execution_count": 87,
     "metadata": {},
     "output_type": "execute_result"
    }
   ],
   "source": [
    "arr = np.zeros((10,10))\n",
    "arr[9:] = 1\n",
    "arr[0] = 1\n",
    "arr[:,0] = 1\n",
    "arr[:,9] = 1\n",
    "arr"
   ]
  },
  {
   "cell_type": "code",
   "execution_count": 139,
   "id": "2b078ead-5d08-48f3-b965-95cc24e1a161",
   "metadata": {},
   "outputs": [
    {
     "data": {
      "text/plain": [
       "array([[0., 1., 0., 1., 0.],\n",
       "       [1., 0., 1., 0., 1.],\n",
       "       [0., 1., 0., 1., 0.],\n",
       "       [1., 0., 1., 0., 1.],\n",
       "       [0., 1., 0., 1., 0.]])"
      ]
     },
     "execution_count": 139,
     "metadata": {},
     "output_type": "execute_result"
    }
   ],
   "source": [
    "arr = np.zeros((5,5))\n",
    "arr[::2,1::2] = 1\n",
    "arr[1::2,::2] = 1\n",
    "arr"
   ]
  },
  {
   "cell_type": "code",
   "execution_count": 163,
   "id": "45ef57dd-12ec-44ec-b599-86cda166ffc3",
   "metadata": {},
   "outputs": [
    {
     "data": {
      "text/plain": [
       "array([ 0,  1,  2,  3,  4, -5, -6, -7, -8, -9])"
      ]
     },
     "execution_count": 163,
     "metadata": {},
     "output_type": "execute_result"
    }
   ],
   "source": [
    "array = np.arange(0,10)\n",
    "array1 = np.array([1,1,1,1,1,-1,-1,-1,-1,-1])\n",
    "arr = np.multiply(array,array1)\n",
    "arr"
   ]
  },
  {
   "cell_type": "code",
   "execution_count": 175,
   "id": "d849778c-6859-49dc-bf6c-f00c2543e534",
   "metadata": {},
   "outputs": [
    {
     "data": {
      "text/plain": [
       "array([[23, 29],\n",
       "       [41, 52]])"
      ]
     },
     "execution_count": 175,
     "metadata": {},
     "output_type": "execute_result"
    }
   ],
   "source": [
    "array = np.array([4,5,7,9]).reshape(2,2)\n",
    "array1 = np.array([2,3,1,5]).reshape(2,2)\n",
    "arr = np.inner(array,array1)\n",
    "arr"
   ]
  },
  {
   "cell_type": "code",
   "execution_count": null,
   "id": "6a879739-586a-4771-b037-abf732e6250a",
   "metadata": {},
   "outputs": [],
   "source": []
  },
  {
   "cell_type": "code",
   "execution_count": 181,
   "id": "850e98b1-3a01-4dea-9783-b5c46a312066",
   "metadata": {},
   "outputs": [
    {
     "name": "stdout",
     "output_type": "stream",
     "text": [
      "Optimized Route: [(0, 0, 0, 0, 0), (4, 8, 9, 9, 2000), (5, 4, 10, 7, 1200), (2, 1, 9, 5, 4000), (1, 1, 7, 1, 3000), (6, 4, 5, 3, 1400), (3, 10, 1, 3, 1500)]\n",
      "Total Distance: 32.14 units\n"
     ]
    },
    {
     "name": "stderr",
     "output_type": "stream",
     "text": [
      "C:\\Users\\panda\\AppData\\Local\\Temp\\ipykernel_8744\\3012216879.py:91: MatplotlibDeprecationWarning: The get_cmap function was deprecated in Matplotlib 3.7 and will be removed two minor releases later. Use ``matplotlib.colormaps[name]`` or ``matplotlib.colormaps.get_cmap(obj)`` instead.\n",
      "  colors = plt.cm.get_cmap(\"tab10\", len(optimized_route))  # \"tab10\" 색상 맵 사용\n",
      "C:\\Users\\panda\\AppData\\Local\\Temp\\ipykernel_8744\\3012216879.py:98: UserWarning: *c* argument looks like a single numeric RGB or RGBA sequence, which should be avoided as value-mapping will have precedence in case its length matches with *x* & *y*.  Please use the *color* keyword-argument or provide a 2D array with a single row if you intend to specify the same RGB or RGBA value for all points.\n",
      "  plt.scatter(stop[1], stop[2], s=100, c=color, label=f'Stop {stop[0]}' if stop[0] != 0 else 'Garage')\n"
     ]
    },
    {
     "data": {
      "image/png": "[encoded data removed]",
      "text/plain": [
       "<Figure size 1000x600 with 1 Axes>"
      ]
     },
     "metadata": {},
     "output_type": "display_data"
    }
   ],
   "source": [
    "#차고지 적용 및 정류장 고정 수요&인구수 포함\n",
    "import numpy as np\n",
    "import pandas as pd\n",
    "import matplotlib.pyplot as plt\n",
    "from math import sqrt\n",
    "import random\n",
    "\n",
    "# 버스 차고지 위치 (고정)\n",
    "garage = (0, 0)\n",
    "\n",
    "# 고정된 정류장 위치 (5개), 수요와 인구수는 랜덤으로 생성\n",
    "stops = [ # 키번호, x, y, 수요, 인구수수\n",
    "    (1, 1, 7, 1, 3000),  # Stop 1\n",
    "    (2, 1, 9, 5, 4000),  # Stop 2\n",
    "    (3, 10, 1, 3, 1500),  # Stop 3\n",
    "    (4, 8, 9, 9, 2000),  # Stop 4\n",
    "    (5, 4, 10, 7, 1200), # Stop 5\n",
    "    (6, 4, 5, 3, 1400) \n",
    "]\n",
    "\n",
    "# 정류장 정보 DataFrame 생성\n",
    "stops_df = pd.DataFrame(stops, columns=['Stop', 'X', 'Y', 'Demand', 'Population'])\n",
    "\n",
    "# 차고지 포함된 리스트\n",
    "all_stops = [(0, garage[0], garage[1], 0, 0)] + [(row['Stop'], row['X'], row['Y'], row['Demand'], row['Population']) for _, row in stops_df.iterrows()]\n",
    "\n",
    "# 두 지점 사이의 유클리드 거리 계산\n",
    "def calculate_distance(stop1, stop2):\n",
    "    return sqrt((stop1[1] - stop2[1])**2 + (stop1[2] - stop2[2])**2)\n",
    "\n",
    "# 정류장 간 거리 계산\n",
    "distances = {}\n",
    "for stop1 in all_stops:\n",
    "    distances[stop1[0]] = {}\n",
    "    for stop2 in all_stops:\n",
    "        if stop1 != stop2:\n",
    "            distances[stop1[0]][stop2[0]] = calculate_distance(stop1, stop2)\n",
    "\n",
    "# 정류장 방문 순서 최적화 함수\n",
    "def optimize_route(stops, distances):\n",
    "    route = [stops[0]]  # 차고지부터 시작\n",
    "    remaining_stops = {stop[0] for stop in stops} - {stops[0][0]}  # 차고지는 제외한 나머지 정류장들\n",
    "\n",
    "    while remaining_stops:\n",
    "        current_stop = route[-1][0]  # 현재 정류장은 번호로만 처리\n",
    "\n",
    "        # 수요가 0인 정류장은 제외\n",
    "        remaining_stops_with_demand = [stop for stop in remaining_stops if [s[3] for s in stops if s[0] == stop][0] > 0]\n",
    "\n",
    "        if not remaining_stops_with_demand:\n",
    "            break\n",
    "\n",
    "        # 각 정류장에 대해 거리, 수요, 인구수 가중치 계산 (인구수 * 수요 비례)\n",
    "        next_stop = min(remaining_stops_with_demand, key=lambda stop: (\n",
    "            distances[current_stop].get(stop, float('inf')) *\n",
    "            (1 - [s[3] for s in stops if s[0] == stop][0] / 10) +  # 수요 비례\n",
    "            [s[4] for s in stops if s[0] == stop][0] / 10000  # 인구수 비례 (10,000명 기준)\n",
    "        ))\n",
    "\n",
    "        route.append(next(stop for stop in stops if stop[0] == next_stop))\n",
    "        remaining_stops.remove(next_stop)\n",
    "\n",
    "    # np.int64를 int로 변환하여 반환\n",
    "    route = [(int(stop[0]), int(stop[1]), int(stop[2]), int(stop[3]), int(stop[4])) for stop in route]\n",
    "    return route\n",
    "\n",
    "# 최적화된 경로 찾기\n",
    "optimized_route = optimize_route(all_stops, distances)\n",
    "\n",
    "# 최적화된 경로 출력\n",
    "print(\"Optimized Route:\", optimized_route)\n",
    "\n",
    "# 총 거리 계산\n",
    "def calculate_total_distance(optimized_route, distances):\n",
    "    total_distance = 0  # 총 거리 초기화\n",
    "    for i in range(1, len(optimized_route)):\n",
    "        # 두 정류장 간 거리 계산\n",
    "        dist = distances[optimized_route[i-1][0]].get(optimized_route[i][0], float('inf'))\n",
    "        total_distance += dist\n",
    "    return total_distance\n",
    "\n",
    "# 총 거리 출력\n",
    "total_distance = calculate_total_distance(optimized_route, distances)\n",
    "print(f\"Total Distance: {total_distance:.2f} units\")\n",
    "\n",
    "# 최적화된 경로 시각화\n",
    "def plot_route(optimized_route):\n",
    "    plt.figure(figsize=(10, 6))\n",
    "\n",
    "    # 정류장 번호에 따른 색상 지정 (여기서는 색상 맵을 사용)\n",
    "    colors = plt.cm.get_cmap(\"tab10\", len(optimized_route))  # \"tab10\" 색상 맵 사용\n",
    "\n",
    "    # 각 정류장 표시\n",
    "    for idx, stop in enumerate(optimized_route):\n",
    "        # 차고지 (Stop 0)은 별도로 빨간색으로 설정하고, 나머지는 다른 색으로 표시\n",
    "        color = 'red' if stop[0] == 0 else colors(idx)  # 차고지는 빨간색, 나머지는 자동 색상\n",
    "\n",
    "        plt.scatter(stop[1], stop[2], s=100, c=color, label=f'Stop {stop[0]}' if stop[0] != 0 else 'Garage')\n",
    "\n",
    "    # 경로 연결선 그리기\n",
    "    for i in range(1, len(optimized_route)):\n",
    "        plt.plot([optimized_route[i-1][1], optimized_route[i][1]],\n",
    "                 [optimized_route[i-1][2], optimized_route[i][2]], 'k-', lw=1)\n",
    "\n",
    "    plt.xlabel('X Coordinate')\n",
    "    plt.ylabel('Y Coordinate')\n",
    "    plt.title('Optimized Bus Route')\n",
    "    plt.legend()\n",
    "    plt.grid(True)\n",
    "    plt.show()\n",
    "\n",
    "# 경로 시각화\n",
    "plot_route(optimized_route)\n"
   ]
  },
  {
   "cell_type": "code",
   "execution_count": 13,
   "id": "fac9f74c-8edd-4ec9-9456-5f430131e847",
   "metadata": {},
   "outputs": [
    {
     "data": {
      "image/png": "[encoded data removed]",
      "text/plain": [
       "<Figure size 640x480 with 1 Axes>"
      ]
     },
     "metadata": {},
     "output_type": "display_data"
    }
   ],
   "source": [
    "\n",
    "import matplotlib.pyplot as plt\n",
    "import numpy as np\n",
    "import math \n",
    "\n",
    "\n",
    "X = np.linspace(-10,10,100)\n",
    "Y = 1/(1 + np.exp(-X))\n",
    "\n",
    "\n",
    "\n",
    "plt.plot(X,Y)\n",
    "plt.xlabel(\"X\")\n",
    "plt.ylabel(\"Sigmoid(X)\")\n",
    "plt.show()"
   ]
  },
  {
   "cell_type": "code",
   "execution_count": 15,
   "id": "e77c65fd-3061-472d-9251-24206978c082",
   "metadata": {},
   "outputs": [
    {
     "ename": "ValueError",
     "evalue": "\nCan't calculate derivative wrt 4.53978687024344e-5.",
     "output_type": "error",
     "traceback": [
      "\u001b[1;31m---------------------------------------------------------------------------\u001b[0m",
      "\u001b[1;31mValueError\u001b[0m                                Traceback (most recent call last)",
      "Cell \u001b[1;32mIn[15], line 9\u001b[0m\n\u001b[0;32m      7\u001b[0m x \u001b[38;5;241m=\u001b[39m np\u001b[38;5;241m.\u001b[39mlinspace(\u001b[38;5;241m-\u001b[39m\u001b[38;5;241m10\u001b[39m,\u001b[38;5;241m10\u001b[39m,\u001b[38;5;241m100\u001b[39m)\n\u001b[0;32m      8\u001b[0m Y \u001b[38;5;241m=\u001b[39m \u001b[38;5;241m1\u001b[39m\u001b[38;5;241m/\u001b[39m(\u001b[38;5;241m1\u001b[39m \u001b[38;5;241m+\u001b[39m np\u001b[38;5;241m.\u001b[39mexp(\u001b[38;5;241m-\u001b[39mx))\n\u001b[1;32m----> 9\u001b[0m func \u001b[38;5;241m=\u001b[39m Derivative(Y,x)\u001b[38;5;241m.\u001b[39mdoit()\n\u001b[0;32m     10\u001b[0m \u001b[38;5;28mprint\u001b[39m(func)\n",
      "File \u001b[1;32m~\\anaconda3\\Lib\\site-packages\\sympy\\core\\function.py:1607\u001b[0m, in \u001b[0;36mDerivative.doit\u001b[1;34m(self, **hints)\u001b[0m\n\u001b[0;32m   1605\u001b[0m     expr \u001b[38;5;241m=\u001b[39m expr\u001b[38;5;241m.\u001b[39mdoit(\u001b[38;5;241m*\u001b[39m\u001b[38;5;241m*\u001b[39mhints)\n\u001b[0;32m   1606\u001b[0m hints[\u001b[38;5;124m'\u001b[39m\u001b[38;5;124mevaluate\u001b[39m\u001b[38;5;124m'\u001b[39m] \u001b[38;5;241m=\u001b[39m \u001b[38;5;28;01mTrue\u001b[39;00m\n\u001b[1;32m-> 1607\u001b[0m rv \u001b[38;5;241m=\u001b[39m \u001b[38;5;28mself\u001b[39m\u001b[38;5;241m.\u001b[39mfunc(expr, \u001b[38;5;241m*\u001b[39m\u001b[38;5;28mself\u001b[39m\u001b[38;5;241m.\u001b[39mvariable_count, \u001b[38;5;241m*\u001b[39m\u001b[38;5;241m*\u001b[39mhints)\n\u001b[0;32m   1608\u001b[0m \u001b[38;5;28;01mif\u001b[39;00m rv\u001b[38;5;241m!=\u001b[39m \u001b[38;5;28mself\u001b[39m \u001b[38;5;129;01mand\u001b[39;00m rv\u001b[38;5;241m.\u001b[39mhas(Derivative):\n\u001b[0;32m   1609\u001b[0m     rv \u001b[38;5;241m=\u001b[39m  rv\u001b[38;5;241m.\u001b[39mdoit(\u001b[38;5;241m*\u001b[39m\u001b[38;5;241m*\u001b[39mhints)\n",
      "File \u001b[1;32m~\\anaconda3\\Lib\\site-packages\\sympy\\core\\function.py:1437\u001b[0m, in \u001b[0;36mDerivative.__new__\u001b[1;34m(cls, expr, *variables, **kwargs)\u001b[0m\n\u001b[0;32m   1430\u001b[0m     \u001b[38;5;28;01mif\u001b[39;00m \u001b[38;5;129;01mnot\u001b[39;00m old_v\u001b[38;5;241m.\u001b[39mis_scalar \u001b[38;5;129;01mand\u001b[39;00m \u001b[38;5;129;01mnot\u001b[39;00m \u001b[38;5;28mhasattr\u001b[39m(\n\u001b[0;32m   1431\u001b[0m             old_v, \u001b[38;5;124m'\u001b[39m\u001b[38;5;124m_eval_derivative\u001b[39m\u001b[38;5;124m'\u001b[39m):\n\u001b[0;32m   1432\u001b[0m         \u001b[38;5;66;03m# special hack providing evaluation for classes\u001b[39;00m\n\u001b[0;32m   1433\u001b[0m         \u001b[38;5;66;03m# that have defined is_scalar=True but have no\u001b[39;00m\n\u001b[0;32m   1434\u001b[0m         \u001b[38;5;66;03m# _eval_derivative defined\u001b[39;00m\n\u001b[0;32m   1435\u001b[0m         expr \u001b[38;5;241m*\u001b[39m\u001b[38;5;241m=\u001b[39m old_v\u001b[38;5;241m.\u001b[39mdiff(old_v)\n\u001b[1;32m-> 1437\u001b[0m obj \u001b[38;5;241m=\u001b[39m \u001b[38;5;28mcls\u001b[39m\u001b[38;5;241m.\u001b[39m_dispatch_eval_derivative_n_times(expr, v, count)\n\u001b[0;32m   1438\u001b[0m \u001b[38;5;28;01mif\u001b[39;00m obj \u001b[38;5;129;01mis\u001b[39;00m \u001b[38;5;129;01mnot\u001b[39;00m \u001b[38;5;28;01mNone\u001b[39;00m \u001b[38;5;129;01mand\u001b[39;00m obj\u001b[38;5;241m.\u001b[39mis_zero:\n\u001b[0;32m   1439\u001b[0m     \u001b[38;5;28;01mreturn\u001b[39;00m obj\n",
      "File \u001b[1;32m~\\anaconda3\\Lib\\site-packages\\sympy\\core\\function.py:1898\u001b[0m, in \u001b[0;36mDerivative._dispatch_eval_derivative_n_times\u001b[1;34m(cls, expr, v, count)\u001b[0m\n\u001b[0;32m   1892\u001b[0m \u001b[38;5;129m@classmethod\u001b[39m\n\u001b[0;32m   1893\u001b[0m \u001b[38;5;28;01mdef\u001b[39;00m \u001b[38;5;21m_dispatch_eval_derivative_n_times\u001b[39m(\u001b[38;5;28mcls\u001b[39m, expr, v, count):\n\u001b[0;32m   1894\u001b[0m     \u001b[38;5;66;03m# Evaluate the derivative `n` times.  If\u001b[39;00m\n\u001b[0;32m   1895\u001b[0m     \u001b[38;5;66;03m# `_eval_derivative_n_times` is not overridden by the current\u001b[39;00m\n\u001b[0;32m   1896\u001b[0m     \u001b[38;5;66;03m# object, the default in `Basic` will call a loop over\u001b[39;00m\n\u001b[0;32m   1897\u001b[0m     \u001b[38;5;66;03m# `_eval_derivative`:\u001b[39;00m\n\u001b[1;32m-> 1898\u001b[0m     \u001b[38;5;28;01mreturn\u001b[39;00m expr\u001b[38;5;241m.\u001b[39m_eval_derivative_n_times(v, count)\n",
      "File \u001b[1;32m~\\anaconda3\\Lib\\site-packages\\sympy\\tensor\\array\\ndim_array.py:332\u001b[0m, in \u001b[0;36mNDimArray._eval_derivative_n_times\u001b[1;34m(self, s, n)\u001b[0m\n\u001b[0;32m    331\u001b[0m \u001b[38;5;28;01mdef\u001b[39;00m \u001b[38;5;21m_eval_derivative_n_times\u001b[39m(\u001b[38;5;28mself\u001b[39m, s, n):\n\u001b[1;32m--> 332\u001b[0m     \u001b[38;5;28;01mreturn\u001b[39;00m Basic\u001b[38;5;241m.\u001b[39m_eval_derivative_n_times(\u001b[38;5;28mself\u001b[39m, s, n)\n",
      "File \u001b[1;32m~\\anaconda3\\Lib\\site-packages\\sympy\\core\\basic.py:1871\u001b[0m, in \u001b[0;36mBasic._eval_derivative_n_times\u001b[1;34m(self, s, n)\u001b[0m\n\u001b[0;32m   1869\u001b[0m obj \u001b[38;5;241m=\u001b[39m \u001b[38;5;28mself\u001b[39m\n\u001b[0;32m   1870\u001b[0m \u001b[38;5;28;01mfor\u001b[39;00m i \u001b[38;5;129;01min\u001b[39;00m \u001b[38;5;28mrange\u001b[39m(n):\n\u001b[1;32m-> 1871\u001b[0m     obj2 \u001b[38;5;241m=\u001b[39m obj\u001b[38;5;241m.\u001b[39m_eval_derivative(s)\n\u001b[0;32m   1872\u001b[0m     \u001b[38;5;28;01mif\u001b[39;00m obj \u001b[38;5;241m==\u001b[39m obj2 \u001b[38;5;129;01mor\u001b[39;00m obj2 \u001b[38;5;129;01mis\u001b[39;00m \u001b[38;5;28;01mNone\u001b[39;00m:\n\u001b[0;32m   1873\u001b[0m         \u001b[38;5;28;01mbreak\u001b[39;00m\n",
      "File \u001b[1;32m~\\anaconda3\\Lib\\site-packages\\sympy\\tensor\\array\\ndim_array.py:329\u001b[0m, in \u001b[0;36mNDimArray._eval_derivative\u001b[1;34m(self, base)\u001b[0m\n\u001b[0;32m    327\u001b[0m \u001b[38;5;28;01mdef\u001b[39;00m \u001b[38;5;21m_eval_derivative\u001b[39m(\u001b[38;5;28mself\u001b[39m, base):\n\u001b[0;32m    328\u001b[0m     \u001b[38;5;66;03m# Types are (base: scalar, self: array)\u001b[39;00m\n\u001b[1;32m--> 329\u001b[0m     \u001b[38;5;28;01mreturn\u001b[39;00m \u001b[38;5;28mself\u001b[39m\u001b[38;5;241m.\u001b[39mapplyfunc(\u001b[38;5;28;01mlambda\u001b[39;00m x: base\u001b[38;5;241m.\u001b[39mdiff(x))\n",
      "File \u001b[1;32m~\\anaconda3\\Lib\\site-packages\\sympy\\tensor\\array\\ndim_array.py:353\u001b[0m, in \u001b[0;36mNDimArray.applyfunc\u001b[1;34m(self, f)\u001b[0m\n\u001b[0;32m    350\u001b[0m \u001b[38;5;28;01mif\u001b[39;00m \u001b[38;5;28misinstance\u001b[39m(\u001b[38;5;28mself\u001b[39m, SparseNDimArray) \u001b[38;5;129;01mand\u001b[39;00m f(S\u001b[38;5;241m.\u001b[39mZero) \u001b[38;5;241m==\u001b[39m \u001b[38;5;241m0\u001b[39m:\n\u001b[0;32m    351\u001b[0m     \u001b[38;5;28;01mreturn\u001b[39;00m \u001b[38;5;28mtype\u001b[39m(\u001b[38;5;28mself\u001b[39m)({k: f(v) \u001b[38;5;28;01mfor\u001b[39;00m k, v \u001b[38;5;129;01min\u001b[39;00m \u001b[38;5;28mself\u001b[39m\u001b[38;5;241m.\u001b[39m_sparse_array\u001b[38;5;241m.\u001b[39mitems() \u001b[38;5;28;01mif\u001b[39;00m f(v) \u001b[38;5;241m!=\u001b[39m \u001b[38;5;241m0\u001b[39m}, \u001b[38;5;28mself\u001b[39m\u001b[38;5;241m.\u001b[39mshape)\n\u001b[1;32m--> 353\u001b[0m \u001b[38;5;28;01mreturn\u001b[39;00m \u001b[38;5;28mtype\u001b[39m(\u001b[38;5;28mself\u001b[39m)(\u001b[38;5;28mmap\u001b[39m(f, Flatten(\u001b[38;5;28mself\u001b[39m)), \u001b[38;5;28mself\u001b[39m\u001b[38;5;241m.\u001b[39mshape)\n",
      "File \u001b[1;32m~\\anaconda3\\Lib\\site-packages\\sympy\\tensor\\array\\dense_ndim_array.py:134\u001b[0m, in \u001b[0;36mImmutableDenseNDimArray.__new__\u001b[1;34m(cls, iterable, shape, **kwargs)\u001b[0m\n\u001b[0;32m    133\u001b[0m \u001b[38;5;28;01mdef\u001b[39;00m \u001b[38;5;21m__new__\u001b[39m(\u001b[38;5;28mcls\u001b[39m, iterable, shape\u001b[38;5;241m=\u001b[39m\u001b[38;5;28;01mNone\u001b[39;00m, \u001b[38;5;241m*\u001b[39m\u001b[38;5;241m*\u001b[39mkwargs):\n\u001b[1;32m--> 134\u001b[0m     \u001b[38;5;28;01mreturn\u001b[39;00m \u001b[38;5;28mcls\u001b[39m\u001b[38;5;241m.\u001b[39m_new(iterable, shape, \u001b[38;5;241m*\u001b[39m\u001b[38;5;241m*\u001b[39mkwargs)\n",
      "File \u001b[1;32m~\\anaconda3\\Lib\\site-packages\\sympy\\tensor\\array\\dense_ndim_array.py:141\u001b[0m, in \u001b[0;36mImmutableDenseNDimArray._new\u001b[1;34m(cls, iterable, shape, **kwargs)\u001b[0m\n\u001b[0;32m    139\u001b[0m shape \u001b[38;5;241m=\u001b[39m Tuple(\u001b[38;5;241m*\u001b[39m\u001b[38;5;28mmap\u001b[39m(_sympify, shape))\n\u001b[0;32m    140\u001b[0m \u001b[38;5;28mcls\u001b[39m\u001b[38;5;241m.\u001b[39m_check_special_bounds(flat_list, shape)\n\u001b[1;32m--> 141\u001b[0m flat_list \u001b[38;5;241m=\u001b[39m flatten(flat_list)\n\u001b[0;32m    142\u001b[0m flat_list \u001b[38;5;241m=\u001b[39m Tuple(\u001b[38;5;241m*\u001b[39mflat_list)\n\u001b[0;32m    143\u001b[0m \u001b[38;5;28mself\u001b[39m \u001b[38;5;241m=\u001b[39m Basic\u001b[38;5;241m.\u001b[39m\u001b[38;5;21m__new__\u001b[39m(\u001b[38;5;28mcls\u001b[39m, flat_list, shape, \u001b[38;5;241m*\u001b[39m\u001b[38;5;241m*\u001b[39mkwargs)\n",
      "File \u001b[1;32m~\\anaconda3\\Lib\\site-packages\\sympy\\utilities\\iterables.py:112\u001b[0m, in \u001b[0;36mflatten\u001b[1;34m(iterable, levels, cls)\u001b[0m\n\u001b[0;32m    108\u001b[0m         \u001b[38;5;28;01mreturn\u001b[39;00m \u001b[38;5;28misinstance\u001b[39m(x, \u001b[38;5;28mcls\u001b[39m)\n\u001b[0;32m    110\u001b[0m result \u001b[38;5;241m=\u001b[39m []\n\u001b[1;32m--> 112\u001b[0m \u001b[38;5;28;01mfor\u001b[39;00m el \u001b[38;5;129;01min\u001b[39;00m iterable:\n\u001b[0;32m    113\u001b[0m     \u001b[38;5;28;01mif\u001b[39;00m reducible(el):\n\u001b[0;32m    114\u001b[0m         \u001b[38;5;28;01mif\u001b[39;00m \u001b[38;5;28mhasattr\u001b[39m(el, \u001b[38;5;124m'\u001b[39m\u001b[38;5;124margs\u001b[39m\u001b[38;5;124m'\u001b[39m) \u001b[38;5;129;01mand\u001b[39;00m \u001b[38;5;129;01mnot\u001b[39;00m \u001b[38;5;28misinstance\u001b[39m(el, NDimArray):\n",
      "File \u001b[1;32m~\\anaconda3\\Lib\\site-packages\\sympy\\tensor\\array\\ndim_array.py:329\u001b[0m, in \u001b[0;36mNDimArray._eval_derivative.<locals>.<lambda>\u001b[1;34m(x)\u001b[0m\n\u001b[0;32m    327\u001b[0m \u001b[38;5;28;01mdef\u001b[39;00m \u001b[38;5;21m_eval_derivative\u001b[39m(\u001b[38;5;28mself\u001b[39m, base):\n\u001b[0;32m    328\u001b[0m     \u001b[38;5;66;03m# Types are (base: scalar, self: array)\u001b[39;00m\n\u001b[1;32m--> 329\u001b[0m     \u001b[38;5;28;01mreturn\u001b[39;00m \u001b[38;5;28mself\u001b[39m\u001b[38;5;241m.\u001b[39mapplyfunc(\u001b[38;5;28;01mlambda\u001b[39;00m x: base\u001b[38;5;241m.\u001b[39mdiff(x))\n",
      "File \u001b[1;32m~\\anaconda3\\Lib\\site-packages\\sympy\\tensor\\array\\ndim_array.py:325\u001b[0m, in \u001b[0;36mNDimArray.diff\u001b[1;34m(self, *args, **kwargs)\u001b[0m\n\u001b[0;32m    323\u001b[0m \u001b[38;5;28;01mfrom\u001b[39;00m \u001b[38;5;21;01msympy\u001b[39;00m\u001b[38;5;21;01m.\u001b[39;00m\u001b[38;5;21;01mtensor\u001b[39;00m\u001b[38;5;21;01m.\u001b[39;00m\u001b[38;5;21;01marray\u001b[39;00m\u001b[38;5;21;01m.\u001b[39;00m\u001b[38;5;21;01marray_derivatives\u001b[39;00m \u001b[38;5;28;01mimport\u001b[39;00m ArrayDerivative\n\u001b[0;32m    324\u001b[0m kwargs\u001b[38;5;241m.\u001b[39msetdefault(\u001b[38;5;124m'\u001b[39m\u001b[38;5;124mevaluate\u001b[39m\u001b[38;5;124m'\u001b[39m, \u001b[38;5;28;01mTrue\u001b[39;00m)\n\u001b[1;32m--> 325\u001b[0m \u001b[38;5;28;01mreturn\u001b[39;00m ArrayDerivative(\u001b[38;5;28mself\u001b[39m\u001b[38;5;241m.\u001b[39mas_immutable(), \u001b[38;5;241m*\u001b[39margs, \u001b[38;5;241m*\u001b[39m\u001b[38;5;241m*\u001b[39mkwargs)\n",
      "File \u001b[1;32m~\\anaconda3\\Lib\\site-packages\\sympy\\tensor\\array\\array_derivatives.py:19\u001b[0m, in \u001b[0;36mArrayDerivative.__new__\u001b[1;34m(cls, expr, *variables, **kwargs)\u001b[0m\n\u001b[0;32m     18\u001b[0m \u001b[38;5;28;01mdef\u001b[39;00m \u001b[38;5;21m__new__\u001b[39m(\u001b[38;5;28mcls\u001b[39m, expr, \u001b[38;5;241m*\u001b[39mvariables, \u001b[38;5;241m*\u001b[39m\u001b[38;5;241m*\u001b[39mkwargs):\n\u001b[1;32m---> 19\u001b[0m     obj \u001b[38;5;241m=\u001b[39m \u001b[38;5;28msuper\u001b[39m()\u001b[38;5;241m.\u001b[39m\u001b[38;5;21m__new__\u001b[39m(\u001b[38;5;28mcls\u001b[39m, expr, \u001b[38;5;241m*\u001b[39mvariables, \u001b[38;5;241m*\u001b[39m\u001b[38;5;241m*\u001b[39mkwargs)\n\u001b[0;32m     20\u001b[0m     \u001b[38;5;28;01mif\u001b[39;00m \u001b[38;5;28misinstance\u001b[39m(obj, ArrayDerivative):\n\u001b[0;32m     21\u001b[0m         obj\u001b[38;5;241m.\u001b[39m_shape \u001b[38;5;241m=\u001b[39m obj\u001b[38;5;241m.\u001b[39m_get_shape()\n",
      "File \u001b[1;32m~\\anaconda3\\Lib\\site-packages\\sympy\\core\\function.py:1334\u001b[0m, in \u001b[0;36mDerivative.__new__\u001b[1;34m(cls, expr, *variables, **kwargs)\u001b[0m\n\u001b[0;32m   1332\u001b[0m     \u001b[38;5;28;01mif\u001b[39;00m \u001b[38;5;129;01mnot\u001b[39;00m v\u001b[38;5;241m.\u001b[39m_diff_wrt:\n\u001b[0;32m   1333\u001b[0m         __ \u001b[38;5;241m=\u001b[39m \u001b[38;5;124m'\u001b[39m\u001b[38;5;124m'\u001b[39m  \u001b[38;5;66;03m# filler to make error message neater\u001b[39;00m\n\u001b[1;32m-> 1334\u001b[0m         \u001b[38;5;28;01mraise\u001b[39;00m \u001b[38;5;167;01mValueError\u001b[39;00m(filldedent(\u001b[38;5;124m'''\u001b[39m\n\u001b[0;32m   1335\u001b[0m \u001b[38;5;124m            Can\u001b[39m\u001b[38;5;124m'\u001b[39m\u001b[38;5;124mt calculate derivative wrt \u001b[39m\u001b[38;5;132;01m%s\u001b[39;00m\u001b[38;5;124m.\u001b[39m\u001b[38;5;132;01m%s\u001b[39;00m\u001b[38;5;124m'''\u001b[39m \u001b[38;5;241m%\u001b[39m (v,\n\u001b[0;32m   1336\u001b[0m             __)))\n\u001b[0;32m   1338\u001b[0m \u001b[38;5;66;03m# We make a special case for 0th derivative, because there is no\u001b[39;00m\n\u001b[0;32m   1339\u001b[0m \u001b[38;5;66;03m# good way to unambiguously print this.\u001b[39;00m\n\u001b[0;32m   1340\u001b[0m \u001b[38;5;28;01mif\u001b[39;00m \u001b[38;5;28mlen\u001b[39m(variable_count) \u001b[38;5;241m==\u001b[39m \u001b[38;5;241m0\u001b[39m:\n",
      "\u001b[1;31mValueError\u001b[0m: \nCan't calculate derivative wrt 4.53978687024344e-5."
     ]
    }
   ],
   "source": [
    "import matplotlib.pyplot as plt\n",
    "import numpy as np\n",
    "import math \n",
    "from sympy import Derivative, symbols\n",
    "\n",
    "x = symbols(\"x\")\n",
    "x = np.linspace(-10,10,100)\n",
    "Y = 1/(1 + np.exp(-x))\n",
    "func = Derivative(Y,x).doit()\n",
    "print(func)"
   ]
  }
 ],
 "metadata": {
  "kernelspec": {
   "display_name": "Python 3 (ipykernel)",
   "language": "python",
   "name": "python3"
  },
  "language_info": {
   "codemirror_mode": {
    "name": "ipython",
    "version": 3
   },
   "file_extension": ".py",
   "mimetype": "text/x-python",
   "name": "python",
   "nbconvert_exporter": "python",
   "pygments_lexer": "ipython3",
   "version": "3.12.4"
  }
 },
 "nbformat": 4,
 "nbformat_minor": 5
}
